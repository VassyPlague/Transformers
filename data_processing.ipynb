{
 "cells": [
  {
   "cell_type": "code",
   "execution_count": 1,
   "id": "6629fa84",
   "metadata": {},
   "outputs": [
    {
     "data": {
      "text/html": [
       "<div>\n",
       "<style scoped>\n",
       "    .dataframe tbody tr th:only-of-type {\n",
       "        vertical-align: middle;\n",
       "    }\n",
       "\n",
       "    .dataframe tbody tr th {\n",
       "        vertical-align: top;\n",
       "    }\n",
       "\n",
       "    .dataframe thead th {\n",
       "        text-align: right;\n",
       "    }\n",
       "</style>\n",
       "<table border=\"1\" class=\"dataframe\">\n",
       "  <thead>\n",
       "    <tr style=\"text-align: right;\">\n",
       "      <th></th>\n",
       "      <th>name</th>\n",
       "      <th>mkb_code</th>\n",
       "      <th>ext_diagnosis</th>\n",
       "      <th>patient complaints</th>\n",
       "      <th>recommendations</th>\n",
       "    </tr>\n",
       "  </thead>\n",
       "  <tbody>\n",
       "    <tr>\n",
       "      <th>0</th>\n",
       "      <td>b01.047.001 прием (осмотр, консультация) врача...</td>\n",
       "      <td>I11.9 Гипертензивная [гипертоническая] болезнь...</td>\n",
       "      <td>Гипертоническая болезнь 2 ст Арт гипертония 1 ...</td>\n",
       "      <td>на момент осмотра периодическое повышение АД. ...</td>\n",
       "      <td>стол №10, режим №2режим труда и отдыха, прием ...</td>\n",
       "    </tr>\n",
       "    <tr>\n",
       "      <th>1</th>\n",
       "      <td>b01.015.001 прием (осмотр, консультация) врача...</td>\n",
       "      <td>I11.9 Гипертензивная [гипертоническая] болезнь...</td>\n",
       "      <td>Артериальная гипертония II   ст, 2 ст, ОВР. Ги...</td>\n",
       "      <td>Жалобы на боли в области сердца,ноющего , давя...</td>\n",
       "      <td>проведена коррекция лечения - дальнева 5/8, би...</td>\n",
       "    </tr>\n",
       "    <tr>\n",
       "      <th>2</th>\n",
       "      <td>b01.047.002 прием (осмотр, консультация) врача...</td>\n",
       "      <td>I11.9 Гипертензивная [гипертоническая] болезнь...</td>\n",
       "      <td>NaN</td>\n",
       "      <td>прежние</td>\n",
       "      <td>диета    контроль АД  тромбо АСС по 100мг х 1 ...</td>\n",
       "    </tr>\n",
       "    <tr>\n",
       "      <th>3</th>\n",
       "      <td>b01.047.001 прием (осмотр, консультация) врача...</td>\n",
       "      <td>I67.8 Другие уточненные поражения сосудов мозга</td>\n",
       "      <td>ДЭП 11 ст сложного генеза(атеросклеротическая,...</td>\n",
       "      <td>шум в ушах.мушки перед глазами беспокоят реже....</td>\n",
       "      <td>лечение продолжить.</td>\n",
       "    </tr>\n",
       "    <tr>\n",
       "      <th>4</th>\n",
       "      <td>b01.015.001 прием (осмотр, консультация) врача...</td>\n",
       "      <td>I11.9 Гипертензивная [гипертоническая] болезнь...</td>\n",
       "      <td>ИБС. . Стенокардия напряжения II ФК. Постинфар...</td>\n",
       "      <td>На Одышку при незначительной физ нагрузке.  Не...</td>\n",
       "      <td>Физическая активность (ходьба в умеренном темп...</td>\n",
       "    </tr>\n",
       "    <tr>\n",
       "      <th>...</th>\n",
       "      <td>...</td>\n",
       "      <td>...</td>\n",
       "      <td>...</td>\n",
       "      <td>...</td>\n",
       "      <td>...</td>\n",
       "    </tr>\n",
       "    <tr>\n",
       "      <th>119775</th>\n",
       "      <td>b01.064.001 прием (осмотр, консультация) врача...</td>\n",
       "      <td>NaN</td>\n",
       "      <td>NaN</td>\n",
       "      <td>на боли в зубе верхней челюсти слева.\\nАнамнез...</td>\n",
       "      <td>NaN</td>\n",
       "    </tr>\n",
       "    <tr>\n",
       "      <th>119776</th>\n",
       "      <td>b01.064.001 прием (осмотр, консультация) врача...</td>\n",
       "      <td>NaN</td>\n",
       "      <td>NaN</td>\n",
       "      <td>на наличие кариозной полости в 3.7.На застрева...</td>\n",
       "      <td>Улучшить гигиену полости рта.Рекомендована кон...</td>\n",
       "    </tr>\n",
       "    <tr>\n",
       "      <th>119777</th>\n",
       "      <td>b01.001.001 прием (осмотр, консультация) врача...</td>\n",
       "      <td>D25.1 Интрамуральная лейомиома матки</td>\n",
       "      <td>NaN</td>\n",
       "      <td>NaN</td>\n",
       "      <td>Контроль УЗИ через 6 месяцев</td>\n",
       "    </tr>\n",
       "    <tr>\n",
       "      <th>119778</th>\n",
       "      <td>b01.047.001 прием (осмотр, консультация) врача...</td>\n",
       "      <td>I11.9 Гипертензивная [гипертоническая] болезнь...</td>\n",
       "      <td>артериальная гипертония 2 ст. вр хсн0.</td>\n",
       "      <td>на головную боль.</td>\n",
       "      <td>Сделано:энап 1.25 мг\\мл.+физ.раствор 0.9%-10.0...</td>\n",
       "    </tr>\n",
       "    <tr>\n",
       "      <th>119779</th>\n",
       "      <td>b01.008.002 прием (осмотр, консультация) врача...</td>\n",
       "      <td>B35.3 Микоз стоп</td>\n",
       "      <td>NaN</td>\n",
       "      <td>Жалоб нет</td>\n",
       "      <td>NaN</td>\n",
       "    </tr>\n",
       "  </tbody>\n",
       "</table>\n",
       "<p>119780 rows × 5 columns</p>\n",
       "</div>"
      ],
      "text/plain": [
       "                                                     name  \\\n",
       "0       b01.047.001 прием (осмотр, консультация) врача...   \n",
       "1       b01.015.001 прием (осмотр, консультация) врача...   \n",
       "2       b01.047.002 прием (осмотр, консультация) врача...   \n",
       "3       b01.047.001 прием (осмотр, консультация) врача...   \n",
       "4       b01.015.001 прием (осмотр, консультация) врача...   \n",
       "...                                                   ...   \n",
       "119775  b01.064.001 прием (осмотр, консультация) врача...   \n",
       "119776  b01.064.001 прием (осмотр, консультация) врача...   \n",
       "119777  b01.001.001 прием (осмотр, консультация) врача...   \n",
       "119778  b01.047.001 прием (осмотр, консультация) врача...   \n",
       "119779  b01.008.002 прием (осмотр, консультация) врача...   \n",
       "\n",
       "                                                 mkb_code  \\\n",
       "0       I11.9 Гипертензивная [гипертоническая] болезнь...   \n",
       "1       I11.9 Гипертензивная [гипертоническая] болезнь...   \n",
       "2       I11.9 Гипертензивная [гипертоническая] болезнь...   \n",
       "3         I67.8 Другие уточненные поражения сосудов мозга   \n",
       "4       I11.9 Гипертензивная [гипертоническая] болезнь...   \n",
       "...                                                   ...   \n",
       "119775                                                NaN   \n",
       "119776                                                NaN   \n",
       "119777               D25.1 Интрамуральная лейомиома матки   \n",
       "119778  I11.9 Гипертензивная [гипертоническая] болезнь...   \n",
       "119779                                   B35.3 Микоз стоп   \n",
       "\n",
       "                                            ext_diagnosis  \\\n",
       "0       Гипертоническая болезнь 2 ст Арт гипертония 1 ...   \n",
       "1       Артериальная гипертония II   ст, 2 ст, ОВР. Ги...   \n",
       "2                                                     NaN   \n",
       "3       ДЭП 11 ст сложного генеза(атеросклеротическая,...   \n",
       "4       ИБС. . Стенокардия напряжения II ФК. Постинфар...   \n",
       "...                                                   ...   \n",
       "119775                                                NaN   \n",
       "119776                                                NaN   \n",
       "119777                                                NaN   \n",
       "119778             артериальная гипертония 2 ст. вр хсн0.   \n",
       "119779                                                NaN   \n",
       "\n",
       "                                       patient complaints  \\\n",
       "0       на момент осмотра периодическое повышение АД. ...   \n",
       "1       Жалобы на боли в области сердца,ноющего , давя...   \n",
       "2                                                 прежние   \n",
       "3       шум в ушах.мушки перед глазами беспокоят реже....   \n",
       "4       На Одышку при незначительной физ нагрузке.  Не...   \n",
       "...                                                   ...   \n",
       "119775  на боли в зубе верхней челюсти слева.\\nАнамнез...   \n",
       "119776  на наличие кариозной полости в 3.7.На застрева...   \n",
       "119777                                                NaN   \n",
       "119778                                  на головную боль.   \n",
       "119779                                          Жалоб нет   \n",
       "\n",
       "                                          recommendations  \n",
       "0       стол №10, режим №2режим труда и отдыха, прием ...  \n",
       "1       проведена коррекция лечения - дальнева 5/8, би...  \n",
       "2       диета    контроль АД  тромбо АСС по 100мг х 1 ...  \n",
       "3                                     лечение продолжить.  \n",
       "4       Физическая активность (ходьба в умеренном темп...  \n",
       "...                                                   ...  \n",
       "119775                                                NaN  \n",
       "119776  Улучшить гигиену полости рта.Рекомендована кон...  \n",
       "119777                       Контроль УЗИ через 6 месяцев  \n",
       "119778  Сделано:энап 1.25 мг\\мл.+физ.раствор 0.9%-10.0...  \n",
       "119779                                                NaN  \n",
       "\n",
       "[119780 rows x 5 columns]"
      ]
     },
     "execution_count": 1,
     "metadata": {},
     "output_type": "execute_result"
    }
   ],
   "source": [
    "import warnings\n",
    "import pandas as pd\n",
    "from IPython.display import Audio\n",
    "\n",
    "seed = 14\n",
    "sound_file = 'end.mp3'\n",
    "warnings.filterwarnings('ignore')\n",
    "\n",
    "raw_data = pd.read_excel('data/Data_diagnosis_complaints.xlsx')\n",
    "raw_data"
   ]
  },
  {
   "cell_type": "code",
   "execution_count": 2,
   "id": "97d45914",
   "metadata": {},
   "outputs": [],
   "source": [
    "data = pd.DataFrame(columns = ['text', 'target']) # initialize new DF with all main values"
   ]
  },
  {
   "cell_type": "code",
   "execution_count": 3,
   "id": "814352aa",
   "metadata": {},
   "outputs": [],
   "source": [
    "# cleaning from NaN values\n",
    "data['text'] = raw_data['patient complaints'].dropna()\n",
    "data['target'] = raw_data['mkb_code'].dropna()\n",
    "data.dropna(inplace = True)\n",
    "data.reset_index(drop = True, inplace= True)"
   ]
  },
  {
   "cell_type": "code",
   "execution_count": 4,
   "id": "39d1ae11",
   "metadata": {},
   "outputs": [],
   "source": [
    "# lenght filtering\n",
    "data = data.loc[data['text'].str.len() > 50] "
   ]
  },
  {
   "cell_type": "code",
   "execution_count": 5,
   "id": "07fb269c",
   "metadata": {},
   "outputs": [],
   "source": [
    "# simple parser for mkb code\n",
    "a = []\n",
    "b = []\n",
    "for item in data['target']:\n",
    "    a.append(item[:3])\n",
    "    b.append(item[0])\n",
    "data['target'] = a\n",
    "data['label'] = b"
   ]
  },
  {
   "cell_type": "code",
   "execution_count": 6,
   "id": "c360d35c",
   "metadata": {},
   "outputs": [
    {
     "data": {
      "text/plain": [
       "<AxesSubplot:ylabel='label'>"
      ]
     },
     "execution_count": 6,
     "metadata": {},
     "output_type": "execute_result"
    },
    {
     "data": {
      "image/png": "[encoded data removed]",
      "text/plain": [
       "<Figure size 640x480 with 1 Axes>"
      ]
     },
     "metadata": {},
     "output_type": "display_data"
    }
   ],
   "source": [
    "data['label'].value_counts().plot(kind = 'pie')"
   ]
  },
  {
   "cell_type": "code",
   "execution_count": 7,
   "id": "cb26628a",
   "metadata": {},
   "outputs": [],
   "source": [
    "# sampling\n",
    "from sklearn.utils import resample\n",
    "classes = data['label'].unique()\n",
    "final_data = data.loc[:1]\n",
    "for i in classes:\n",
    "    if i not in ['Z', 'M', 'J', 'U', 'E', 'K', 'I']:\n",
    "        continue\n",
    "    current = data[data['label'] == i]\n",
    "    sampled = resample (current, replace = True, n_samples = 2000, random_state = seed)\n",
    "    final_data = final_data.append(sampled)"
   ]
  },
  {
   "cell_type": "code",
   "execution_count": 8,
   "id": "b1d997b9",
   "metadata": {},
   "outputs": [
    {
     "data": {
      "text/plain": [
       "<AxesSubplot:ylabel='label'>"
      ]
     },
     "execution_count": 8,
     "metadata": {},
     "output_type": "execute_result"
    },
    {
     "data": {
      "image/png": "[encoded data removed]",
      "text/plain": [
       "<Figure size 640x480 with 1 Axes>"
      ]
     },
     "metadata": {},
     "output_type": "display_data"
    }
   ],
   "source": [
    "final_data['label'].value_counts().plot(kind = 'pie')"
   ]
  },
  {
   "cell_type": "code",
   "execution_count": 9,
   "id": "1baafb8d",
   "metadata": {},
   "outputs": [],
   "source": [
    "final_data['label'], _ = final_data['label'].factorize()"
   ]
  },
  {
   "cell_type": "code",
   "execution_count": 10,
   "id": "809b4d19",
   "metadata": {},
   "outputs": [],
   "source": [
    "import re\n",
    "\n",
    "#Removes Punctuations\n",
    "def remove_punctuations(data):\n",
    "    punct_tag = re.compile(r'[^\\w\\s]')\n",
    "    data = punct_tag.sub(r'',data)\n",
    "    return data\n",
    "\n",
    "#Removes HTML syntaxes\n",
    "def remove_html(data):\n",
    "    html_tag=re.compile(r'<.*?>')\n",
    "    data=html_tag.sub(r'',data)\n",
    "    return data\n",
    "\n",
    "#Removes URL data\n",
    "def remove_url(data):\n",
    "    url_clean = re.compile(r\"https://\\S+|www\\.\\S+\")\n",
    "    data = url_clean.sub(r'',data)\n",
    "    return data\n",
    "\n",
    "#Removes Emojis\n",
    "def remove_emoji(data):\n",
    "    emoji_clean= re.compile(\"[\"\n",
    "                           u\"\\U0001F600-\\U0001F64F\"  # emoticons\n",
    "                           u\"\\U0001F300-\\U0001F5FF\"  # symbols & pictographs\n",
    "                           u\"\\U0001F680-\\U0001F6FF\"  # transport & map symbols\n",
    "                           u\"\\U0001F1E0-\\U0001F1FF\"  # flags (iOS)\n",
    "                           u\"\\U00002702-\\U000027B0\"\n",
    "                           u\"\\U000024C2-\\U0001F251\"\n",
    "                           \"]+\", flags=re.UNICODE)\n",
    "    data = emoji_clean.sub(r'',data)\n",
    "    url_clean = re.compile(r\"https://\\S+|www\\.\\S+\")\n",
    "    data = url_clean.sub(r'',data)\n",
    "    return data\n",
    "\n",
    "\n",
    "final_data['text'] = final_data['text'].apply(lambda z: remove_punctuations(z))\n",
    "final_data['text'] = final_data['text'].apply(lambda z: remove_html(z))\n",
    "final_data['text'] = final_data['text'].apply(lambda z: remove_url(z))\n",
    "final_data['text'] = final_data['text'].apply(lambda z: remove_emoji(z))"
   ]
  },
  {
   "cell_type": "code",
   "execution_count": 11,
   "id": "6fae49e0",
   "metadata": {},
   "outputs": [],
   "source": [
    "final_data.reset_index(drop= True, inplace= True)\n",
    "final_data.to_csv('prepared1.csv', index_label= False)"
   ]
  }
 ],
 "metadata": {
  "kernelspec": {
   "display_name": "Python 3 (ipykernel)",
   "language": "python",
   "name": "python3"
  },
  "language_info": {
   "codemirror_mode": {
    "name": "ipython",
    "version": 3
   },
   "file_extension": ".py",
   "mimetype": "text/x-python",
   "name": "python",
   "nbconvert_exporter": "python",
   "pygments_lexer": "ipython3",
   "version": "3.9.13"
  }
 },
 "nbformat": 4,
 "nbformat_minor": 5
}
