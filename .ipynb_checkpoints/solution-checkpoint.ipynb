{
 "cells": [
  {
   "cell_type": "markdown",
   "id": "ca65d3b6",
   "metadata": {},
   "source": [
    "# 1. Importing prepared Data"
   ]
  },
  {
   "cell_type": "code",
   "execution_count": 1,
   "id": "d0b3a6cf",
   "metadata": {},
   "outputs": [],
   "source": [
    "import pandas as pd\n",
    "import numpy as np\n",
    "data = pd.read_excel('data/prepared_data.xlsx')\n",
    "data.drop(columns= 'Unnamed: 0', inplace= True)\n",
    "data.rename(columns= {'class' : 'label'}, inplace= True)\n",
    "data['label'], _ = data['label'].factorize()"
   ]
  },
  {
   "cell_type": "code",
   "execution_count": 2,
   "id": "4749a09e",
   "metadata": {},
   "outputs": [],
   "source": [
    "import pandas as pd\n",
    "import numpy as np\n",
    "data = pd.read_csv('prepared1.csv')\n",
    "data = data.sample(frac=1, random_state= 14).reset_index(drop=True)"
   ]
  },
  {
   "cell_type": "code",
   "execution_count": 2,
   "id": "aafc96d8",
   "metadata": {},
   "outputs": [],
   "source": [
    "import pyarrow as pa\n",
    "import pyarrow.dataset as ds\n",
    "from datasets import Dataset\n",
    "\n",
    "train_dataset = ds.dataset(pa.Table.from_pandas(data[:10000]).to_batches())\n",
    "### convert train to Huggingface dataset\n",
    "hg_train_dataset = Dataset(pa.Table.from_pandas(data[:10000]))\n",
    "\n",
    "\n",
    "test_dataset = ds.dataset(pa.Table.from_pandas(data[10000:]).to_batches())\n",
    "### convert test to Huggingface dataset\n",
    "hg_test_dataset = Dataset(pa.Table.from_pandas(data[10000:]))"
   ]
  },
  {
   "cell_type": "markdown",
   "id": "767214ea",
   "metadata": {},
   "source": [
    "# 2. Transformer Model"
   ]
  },
  {
   "cell_type": "code",
   "execution_count": 3,
   "id": "290d6128",
   "metadata": {},
   "outputs": [],
   "source": [
    "from transformers import AutoTokenizer\n",
    "tokenizer = AutoTokenizer.from_pretrained('cointegrated/rubert-tiny-sentiment-balanced')"
   ]
  },
  {
   "cell_type": "code",
   "execution_count": 4,
   "id": "3d912197",
   "metadata": {},
   "outputs": [],
   "source": [
    "def preprocess_function(examples):\n",
    "    return tokenizer(examples['text'], truncation=True, padding = True)"
   ]
  },
  {
   "cell_type": "code",
   "execution_count": 5,
   "id": "8ea506a5",
   "metadata": {},
   "outputs": [
    {
     "data": {
      "application/vnd.jupyter.widget-view+json": {
       "model_id": "715146653d67459f9ce0e87ecba04acb",
       "version_major": 2,
       "version_minor": 0
      },
      "text/plain": [
       "  0%|          | 0/10 [00:00<?, ?ba/s]"
      ]
     },
     "metadata": {},
     "output_type": "display_data"
    },
    {
     "data": {
      "application/vnd.jupyter.widget-view+json": {
       "model_id": "3c66e945adbd4c6c9de6e41af97d56c6",
       "version_major": 2,
       "version_minor": 0
      },
      "text/plain": [
       "  0%|          | 0/5 [00:00<?, ?ba/s]"
      ]
     },
     "metadata": {},
     "output_type": "display_data"
    }
   ],
   "source": [
    "#vectorized = preprocess_function(list(data['text']))\n",
    "tokenized_train = hg_train_dataset.map(preprocess_function, batched=True, load_from_cache_file=False)\n",
    "tokenized_test = hg_test_dataset.map(preprocess_function, batched=True, load_from_cache_file=False)\n",
    "columns_to_return = ['input_ids', 'label', 'attention_mask']\n",
    "tokenized_train.set_format(type='torch', columns=columns_to_return)\n",
    "tokenized_test.set_format(type='torch', columns=columns_to_return)"
   ]
  },
  {
   "cell_type": "code",
   "execution_count": 6,
   "id": "3529b19c",
   "metadata": {},
   "outputs": [
    {
     "data": {
      "text/plain": [
       "tensor(4)"
      ]
     },
     "execution_count": 6,
     "metadata": {},
     "output_type": "execute_result"
    }
   ],
   "source": [
    "tokenized_train['label'][0]"
   ]
  },
  {
   "cell_type": "code",
   "execution_count": 7,
   "id": "4ffc883b",
   "metadata": {},
   "outputs": [],
   "source": [
    "from transformers import DataCollatorWithPadding\n",
    "data_collator = DataCollatorWithPadding(tokenizer=tokenizer, padding= True)"
   ]
  },
  {
   "cell_type": "code",
   "execution_count": 8,
   "id": "608c2967",
   "metadata": {},
   "outputs": [],
   "source": [
    "import numpy as np\n",
    "import evaluate\n",
    "\n",
    "accuracy = evaluate.load(\"accuracy\")\n",
    "def compute_metrics(eval_pred):\n",
    "    predictions, labels = eval_pred\n",
    "    predictions = np.argmax(predictions, axis=1)\n",
    "    return accuracy.compute(predictions=predictions, references=labels)"
   ]
  },
  {
   "cell_type": "code",
   "execution_count": 9,
   "id": "5ae0aa3d",
   "metadata": {},
   "outputs": [],
   "source": [
    "id2label = {0: \"Z\", 1: \"M\", 2: \"J\", 3: \"U\", 4: \"E\", 5: \"K\", 6: \"I\"}\n",
    "label2id = {\"Z\": 0, \"M\": 1, \"J\": 2, \"U\": 3, \"E\": 4, \"K\": 5, \"I\": 6}"
   ]
  },
  {
   "cell_type": "code",
   "execution_count": 10,
   "id": "94462ab9",
   "metadata": {},
   "outputs": [
    {
     "name": "stderr",
     "output_type": "stream",
     "text": [
      "Some weights of BertForSequenceClassification were not initialized from the model checkpoint at cointegrated/rubert-tiny-sentiment-balanced and are newly initialized because the shapes did not match:\n",
      "- classifier.weight: found shape torch.Size([3, 312]) in the checkpoint and torch.Size([7, 312]) in the model instantiated\n",
      "- classifier.bias: found shape torch.Size([3]) in the checkpoint and torch.Size([7]) in the model instantiated\n",
      "You should probably TRAIN this model on a down-stream task to be able to use it for predictions and inference.\n"
     ]
    }
   ],
   "source": [
    "from transformers import AutoModelForSequenceClassification, TrainingArguments, Trainer\n",
    "\n",
    "model = AutoModelForSequenceClassification.from_pretrained(\n",
    "    \"cointegrated/rubert-tiny-sentiment-balanced\", num_labels=7, id2label=id2label, label2id=label2id,\n",
    "    ignore_mismatched_sizes=True)"
   ]
  },
  {
   "cell_type": "code",
   "execution_count": 11,
   "id": "86806d19",
   "metadata": {},
   "outputs": [],
   "source": [
    "training_args = TrainingArguments(\n",
    "    output_dir=\"my_awesome_model\",\n",
    "    learning_rate=2e-5,\n",
    "    per_device_train_batch_size=16,\n",
    "    per_device_eval_batch_size=16,\n",
    "    num_train_epochs=2,\n",
    "    weight_decay=0.01,\n",
    "    evaluation_strategy=\"epoch\",\n",
    "    save_strategy=\"epoch\",\n",
    "    load_best_model_at_end=True,\n",
    "    push_to_hub=False,\n",
    "    remove_unused_columns=False\n",
    ")"
   ]
  },
  {
   "cell_type": "code",
   "execution_count": 12,
   "id": "72dba463",
   "metadata": {},
   "outputs": [],
   "source": [
    "trainer = Trainer(\n",
    "    model=model,\n",
    "    args=training_args,\n",
    "    train_dataset=tokenized_train,\n",
    "    eval_dataset=tokenized_test,\n",
    "    tokenizer=tokenizer,\n",
    "    data_collator=data_collator,\n",
    "    compute_metrics=compute_metrics\n",
    ")"
   ]
  },
  {
   "cell_type": "code",
   "execution_count": 13,
   "id": "8ddd2a12",
   "metadata": {},
   "outputs": [
    {
     "name": "stderr",
     "output_type": "stream",
     "text": [
      "C:\\Users\\vnvof\\anaconda3\\lib\\site-packages\\transformers\\optimization.py:306: FutureWarning: This implementation of AdamW is deprecated and will be removed in a future version. Use the PyTorch implementation torch.optim.AdamW instead, or set `no_deprecation_warning=True` to disable this warning\n",
      "  warnings.warn(\n",
      "***** Running training *****\n",
      "  Num examples = 10000\n",
      "  Num Epochs = 2\n",
      "  Instantaneous batch size per device = 16\n",
      "  Total train batch size (w. parallel, distributed & accumulation) = 16\n",
      "  Gradient Accumulation steps = 1\n",
      "  Total optimization steps = 1250\n",
      "  Number of trainable parameters = 11786359\n",
      "You're using a BertTokenizerFast tokenizer. Please note that with a fast tokenizer, using the `__call__` method is faster than using a method to encode the text followed by a call to the `pad` method to get a padded encoding.\n"
     ]
    },
    {
     "data": {
      "text/html": [
       "\n",
       "    <div>\n",
       "      \n",
       "      <progress value='1250' max='1250' style='width:300px; height:20px; vertical-align: middle;'></progress>\n",
       "      [1250/1250 04:38, Epoch 2/2]\n",
       "    </div>\n",
       "    <table border=\"1\" class=\"dataframe\">\n",
       "  <thead>\n",
       " <tr style=\"text-align: left;\">\n",
       "      <th>Epoch</th>\n",
       "      <th>Training Loss</th>\n",
       "      <th>Validation Loss</th>\n",
       "      <th>Accuracy</th>\n",
       "    </tr>\n",
       "  </thead>\n",
       "  <tbody>\n",
       "    <tr>\n",
       "      <td>1</td>\n",
       "      <td>1.464000</td>\n",
       "      <td>0.980657</td>\n",
       "      <td>0.706147</td>\n",
       "    </tr>\n",
       "    <tr>\n",
       "      <td>2</td>\n",
       "      <td>0.986500</td>\n",
       "      <td>0.837866</td>\n",
       "      <td>0.750125</td>\n",
       "    </tr>\n",
       "  </tbody>\n",
       "</table><p>"
      ],
      "text/plain": [
       "<IPython.core.display.HTML object>"
      ]
     },
     "metadata": {},
     "output_type": "display_data"
    },
    {
     "name": "stderr",
     "output_type": "stream",
     "text": [
      "***** Running Evaluation *****\n",
      "  Num examples = 4002\n",
      "  Batch size = 16\n",
      "Saving model checkpoint to my_awesome_model\\checkpoint-625\n",
      "Configuration saved in my_awesome_model\\checkpoint-625\\config.json\n",
      "Model weights saved in my_awesome_model\\checkpoint-625\\pytorch_model.bin\n",
      "tokenizer config file saved in my_awesome_model\\checkpoint-625\\tokenizer_config.json\n",
      "Special tokens file saved in my_awesome_model\\checkpoint-625\\special_tokens_map.json\n",
      "***** Running Evaluation *****\n",
      "  Num examples = 4002\n",
      "  Batch size = 16\n",
      "Saving model checkpoint to my_awesome_model\\checkpoint-1250\n",
      "Configuration saved in my_awesome_model\\checkpoint-1250\\config.json\n",
      "Model weights saved in my_awesome_model\\checkpoint-1250\\pytorch_model.bin\n",
      "tokenizer config file saved in my_awesome_model\\checkpoint-1250\\tokenizer_config.json\n",
      "Special tokens file saved in my_awesome_model\\checkpoint-1250\\special_tokens_map.json\n",
      "\n",
      "\n",
      "Training completed. Do not forget to share your model on huggingface.co/models =)\n",
      "\n",
      "\n",
      "Loading best model from my_awesome_model\\checkpoint-1250 (score: 0.8378660082817078).\n"
     ]
    },
    {
     "data": {
      "text/plain": [
       "TrainOutput(global_step=1250, training_loss=1.1613040893554687, metrics={'train_runtime': 280.3788, 'train_samples_per_second': 71.332, 'train_steps_per_second': 4.458, 'total_flos': 147580293120000.0, 'train_loss': 1.1613040893554687, 'epoch': 2.0})"
      ]
     },
     "execution_count": 13,
     "metadata": {},
     "output_type": "execute_result"
    }
   ],
   "source": [
    "trainer.train() # 0.83 ~ 0.84"
   ]
  },
  {
   "cell_type": "markdown",
   "id": "eb31fc33",
   "metadata": {},
   "source": [
    "https://huggingface.co/docs/transformers/tasks/sequence_classification"
   ]
  }
 ],
 "metadata": {
  "kernelspec": {
   "display_name": "Python 3 (ipykernel)",
   "language": "python",
   "name": "python3"
  },
  "language_info": {
   "codemirror_mode": {
    "name": "ipython",
    "version": 3
   },
   "file_extension": ".py",
   "mimetype": "text/x-python",
   "name": "python",
   "nbconvert_exporter": "python",
   "pygments_lexer": "ipython3",
   "version": "3.9.13"
  }
 },
 "nbformat": 4,
 "nbformat_minor": 5
}
